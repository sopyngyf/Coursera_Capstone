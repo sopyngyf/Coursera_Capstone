{
 "cells": [
  {
   "cell_type": "markdown",
   "metadata": {},
   "source": [
    "# The Battle of the Neighbourhoods (Weeks 1 & 2)\n",
    "#### Applied Data Science Capstone by IBM / Coursera - Sophia Capstone Project"
   ]
  },
  {
   "cell_type": "markdown",
   "metadata": {},
   "source": [
    "## Table of Contents\n",
    "1) [Introduction](#introduction)<br>\n",
    "2) [Data](#data)<br>\n",
    "3) [Methodology](#methodology)<br>\n",
    "4) [Analysis](#analysis)<br>\n",
    "5) [Results and Discussion](#results)<br>\n",
    "6) [Conclusion](#conclusion)<br>"
   ]
  },
  {
   "cell_type": "markdown",
   "metadata": {},
   "source": [
    "## 1) Introduction <a name=\"introduction\"></a>"
   ]
  },
  {
   "cell_type": "markdown",
   "metadata": {},
   "source": [
    "In this project, we will try to find an optimal price for selling public apartment in Singapore. Specifically, this report is meant for readers interested in selling a **5 room public apartment** in **Bukit Panjang**, a town in Singapore. \n",
    "\n",
    "There are many public apartments in Bukit Panjang. We will try to detect **5 room public apartments that are not too old (lease commencement date 1995 onwards)**. We are also particularly interested in **5 room public apartments with selling price higher than $550k**. We would prefer locations to be as close to the subway as possible, assuming the first two conditions are met. \n",
    "\n",
    "We will use data science to generate a few neighbourhoods based on the criteria. Advantages of each area will then be compared so that best possible selling price can be chosen by readers."
   ]
  },
  {
   "cell_type": "markdown",
   "metadata": {},
   "source": [
    "## 2) Data <a name=\"data\"></a>"
   ]
  },
  {
   "cell_type": "markdown",
   "metadata": {},
   "source": [
    "Based on definition of the problem, factors that will influence selling price of a public apartment are:\n",
    "* Flat type in a given town\n",
    "* Lease commencement date of that public apartment\n",
    "* Resale price for any given month\n",
    "\n",
    "The following data sources will be required to extract / generate the required information:\n",
    "* Resale flat prices from January 2017 onwards (taken from **Data.gov.sg**)\n",
    "* Centres of the towns will be generated algorithmically and approximate addresses of centres of these towns will be obtained using **OneMap REST API**\n",
    "* Coordinates of the resale flats (as shown in **Data.gov.sg**), obtained using **OneMap REST API** "
   ]
  },
  {
   "cell_type": "markdown",
   "metadata": {},
   "source": [
    "## 3) Methodology<a name=\"methodology\"></a>"
   ]
  },
  {
   "cell_type": "markdown",
   "metadata": {},
   "source": [
    "to be shown in week 2"
   ]
  },
  {
   "cell_type": "markdown",
   "metadata": {},
   "source": [
    "## 4) Analysis<a name=\"analysis\"></a>"
   ]
  },
  {
   "cell_type": "markdown",
   "metadata": {},
   "source": [
    "to be shown in week 2"
   ]
  },
  {
   "cell_type": "markdown",
   "metadata": {},
   "source": [
    "## 5) Results and Discussion<a name=\"results\"></a>"
   ]
  },
  {
   "cell_type": "markdown",
   "metadata": {},
   "source": [
    "to be shown in week 2"
   ]
  },
  {
   "cell_type": "markdown",
   "metadata": {},
   "source": [
    "## 6) Conclusion<a name=\"conclusion\"></a>"
   ]
  },
  {
   "cell_type": "markdown",
   "metadata": {},
   "source": [
    "to be shown in week 2"
   ]
  },
  {
   "cell_type": "markdown",
   "metadata": {},
   "source": [
    "### <center>----- The End -----</center>"
   ]
  }
 ],
 "metadata": {
  "kernelspec": {
   "display_name": "Python 3",
   "language": "python",
   "name": "python3"
  },
  "language_info": {
   "codemirror_mode": {
    "name": "ipython",
    "version": 3
   },
   "file_extension": ".py",
   "mimetype": "text/x-python",
   "name": "python",
   "nbconvert_exporter": "python",
   "pygments_lexer": "ipython3",
   "version": "3.8.1"
  }
 },
 "nbformat": 4,
 "nbformat_minor": 2
}
